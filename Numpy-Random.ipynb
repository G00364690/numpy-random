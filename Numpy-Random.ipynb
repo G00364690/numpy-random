{
 "cells": [
  {
   "cell_type": "markdown",
   "metadata": {},
   "source": [
    "# Numpy.Random Analysis"
   ]
  },
  {
   "cell_type": "markdown",
   "metadata": {},
   "source": [
    "This assignment relates to the numpy.random package in Python. The following Jupyter Notebook is designed to provide an analysis of the package."
   ]
  },
  {
   "cell_type": "markdown",
   "metadata": {},
   "source": [
    "### Purpose of the package"
   ]
  },
  {
   "cell_type": "markdown",
   "metadata": {},
   "source": [
    "This section will explain the overall purpose of the package in Python."
   ]
  },
  {
   "cell_type": "markdown",
   "metadata": {},
   "source": [
    "### \"Simple random data\" and \"Permutations\" functions"
   ]
  },
  {
   "cell_type": "markdown",
   "metadata": {},
   "source": [
    "This section will explain the \"Simple random data\" and \"Permutations\" functions."
   ]
  },
  {
   "cell_type": "markdown",
   "metadata": {},
   "source": [
    "### \"Distributions\" functions"
   ]
  },
  {
   "cell_type": "markdown",
   "metadata": {},
   "source": [
    "This section will explain the key differences between 5 different distributions provided for in the package."
   ]
  },
  {
   "cell_type": "markdown",
   "metadata": {},
   "source": [
    "### Seeds in pseudorandom numbers"
   ]
  },
  {
   "cell_type": "markdown",
   "metadata": {},
   "source": [
    "\n",
    "#### Random numbers and their uses\n",
    "\n",
    "\n"
   ]
  },
  {
   "cell_type": "markdown",
   "metadata": {},
   "source": [
    "Pseudorandom numbers come from the concept of random numbers. The necessity of random numbers in the modern world is only increasing and have many everyday applications from encryption and tokenisation to machine learning and computer security applications. Given however that computers cannot generate genuinely random numbers the best alternative is psuedorandom numbers.\n",
    "\n",
    "Psuedorandom numbers are numbers that appear random and exhibit statistical randomness but were generated using a deterministic process. These numbers can also be stored or recalled later which makes them particularly useful and advantageous for encyption and tokenisation. This is done using the seeds."
   ]
  },
  {
   "cell_type": "markdown",
   "metadata": {},
   "source": [
    "#### The use of seeds"
   ]
  },
  {
   "cell_type": "markdown",
   "metadata": {},
   "source": [
    "Seeds are the beginning numbers or labels to start or initialise pseudorandom number generation. Defining a seed is important as the an array of random numbers will be stored and associated with that seed until it is reset. If no seed is specified the seed will be automatically determined by the state of the computer system, eg the clock.\n",
    "\n",
    "Psuedorandom numbers are generated in sequences. These sequences are deterministic and seeded with an initial number. This is essentially a labelling system that associates your generation of random numbers under the seed with the seed itself. This means if you recall the seed you recall the random number."
   ]
  },
  {
   "cell_type": "markdown",
   "metadata": {
    "collapsed": true
   },
   "source": [
    "#### Where does the data come from?"
   ]
  },
  {
   "cell_type": "markdown",
   "metadata": {},
   "source": [
    "The data for the pseudorandom numbers likely comes from an internal repository or pool of data in the computer system. User keystrokes or the movements of input/output devices are converted into numbers and replenish the pool of data constantly. A new seed will draw a specified number of pseudorandom numbers from the pool and will be associated with that same explicit set of numbers until it is reset."
   ]
  },
  {
   "cell_type": "markdown",
   "metadata": {},
   "source": [
    "#### Is pseudorandom number generation secure?"
   ]
  },
  {
   "cell_type": "markdown",
   "metadata": {},
   "source": [
    "According to a recent article in the BBC https://www.bbc.com/news/technology-33839925 Encryption packages based on pseudorandom number generation may not be as secure as once thought. \n",
    "\n",
    "The issue lies chiefly in the data pool described above where a low entropy environment is present in the computer system. In this case the frequency of the data stream may be quite low and so prove more predictable and less secure than an equivalent high entropy system. The article cites this environment as more susceptible to a brute force attack as seeds for new numbers would be generated far less regularly."
   ]
  },
  {
   "cell_type": "code",
   "execution_count": null,
   "metadata": {
    "collapsed": true
   },
   "outputs": [],
   "source": []
  }
 ],
 "metadata": {
  "kernelspec": {
   "display_name": "Python 3",
   "language": "python",
   "name": "python3"
  },
  "language_info": {
   "codemirror_mode": {
    "name": "ipython",
    "version": 3
   },
   "file_extension": ".py",
   "mimetype": "text/x-python",
   "name": "python",
   "nbconvert_exporter": "python",
   "pygments_lexer": "ipython3",
   "version": "3.6.3"
  }
 },
 "nbformat": 4,
 "nbformat_minor": 2
}
