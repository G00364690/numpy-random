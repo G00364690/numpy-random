{
 "cells": [
  {
   "cell_type": "markdown",
   "metadata": {},
   "source": [
    "# Numpy.Random Analysis"
   ]
  },
  {
   "cell_type": "markdown",
   "metadata": {},
   "source": [
    "This assignment relates to the numpy.random package in Python. The following Jupyter Notebook is designed to provide an analysis of the package."
   ]
  },
  {
   "cell_type": "markdown",
   "metadata": {},
   "source": [
    "### Purpose of the package"
   ]
  },
  {
   "cell_type": "markdown",
   "metadata": {},
   "source": [
    "#### Numpy.random"
   ]
  },
  {
   "cell_type": "markdown",
   "metadata": {},
   "source": [
    "Numpy is a library package for the Python programming language to support the computation of large multi-dimensional arrays and matrices. \n",
    "\n",
    "The purpose of the numpy.random submodule is to pseudogenerate random variables for computational purposes within arrays and matrices. With Numpy.random it is to easily perform statistical distributions using python. Statistical distributions and their interpretation can be fundamental to the quality of any piece of analysis. "
   ]
  },
  {
   "cell_type": "markdown",
   "metadata": {},
   "source": [
    "#### Why use Numpy.random instead of Random.random?"
   ]
  },
  {
   "cell_type": "markdown",
   "metadata": {},
   "source": [
    "Numpy.random is therefore a random generator. But a random generator already exists in python by way of the random.random function. Why would we need another?\n",
    "\n",
    "The random.random libary is simply considered a little more lightweight and thus the numpy.random submodule has become popular given its wider range of option and probability distributions.\n",
    "\n",
    "Both random libraries utilise the Mersenne twister sequence to generate their random numbers and are deterministic, so the numbers generated are pseudorandom, not truly random."
   ]
  },
  {
   "cell_type": "code",
   "execution_count": 20,
   "metadata": {},
   "outputs": [
    {
     "data": {
      "image/png": "[encoded data removed]",
      "text/plain": [
       "<matplotlib.figure.Figure at 0x2343da2b048>"
      ]
     },
     "metadata": {},
     "output_type": "display_data"
    }
   ],
   "source": [
    "import numpy.random as np\n",
    "\n",
    "x = np.rand(3,5)\n",
    "y = np.rand(1000)\n",
    "y\n",
    "\n",
    "%matplotlib inline\n",
    "import matplotlib.pyplot as plt\n",
    "plt.hist(y)\n",
    "plt.show()"
   ]
  },
  {
   "cell_type": "markdown",
   "metadata": {},
   "source": [
    "### \"Simple random data\" and \"Permutations\" functions"
   ]
  },
  {
   "cell_type": "markdown",
   "metadata": {},
   "source": [
    "This section will introduce and explain the \"Simple random data\" and \"Permutations\" functions.\n",
    "\n",
    "#### Simple random data"
   ]
  },
  {
   "cell_type": "markdown",
   "metadata": {},
   "source": [
    "The simple random data functions are a set of random function that return different types of random numbers depending on what outputs are required.\n",
    "\n",
    "The basic rand() function will return values in a specific range, eg [0,1) whereas the randn() function will return values within a standard normal distribution which is a distribution of integers with a mean of 0 and a standard deviation of 1."
   ]
  },
  {
   "cell_type": "code",
   "execution_count": 30,
   "metadata": {},
   "outputs": [
    {
     "data": {
      "text/plain": [
       "array([[-0.43995205, -0.52730454],\n",
       "       [-0.10303751, -0.59775653]])"
      ]
     },
     "execution_count": 30,
     "metadata": {},
     "output_type": "execute_result"
    }
   ],
   "source": [
    "import numpy.random as np\n",
    "import matplotlib.pyplot as plt\n",
    "%matplotlib inline\n",
    "\n",
    "np.randn(2,2)"
   ]
  },
  {
   "cell_type": "markdown",
   "metadata": {},
   "source": [
    "Expanding beyond this we can look at sampling functions where contained within a continuous uniform distribution (where probability of any number is constant) we can generate random floats and of predetermined shape and perform operations on them."
   ]
  },
  {
   "cell_type": "code",
   "execution_count": 33,
   "metadata": {},
   "outputs": [
    {
     "data": {
      "text/plain": [
       "array([ 4.83954507,  0.79997277,  0.40697242,  3.41769572,  4.42777546])"
      ]
     },
     "execution_count": 33,
     "metadata": {},
     "output_type": "execute_result"
    }
   ],
   "source": [
    "import numpy.random as np\n",
    "import matplotlib.pyplot as plt\n",
    "%matplotlib inline\n",
    "\n",
    "5 * np.random_sample(5)"
   ]
  },
  {
   "cell_type": "markdown",
   "metadata": {},
   "source": [
    "The purpose of Simple random data functions is to produce outputs that are single values or arrays of data that are randomly (or pseudorandomly) chosen."
   ]
  },
  {
   "cell_type": "markdown",
   "metadata": {},
   "source": [
    "#### Permutations"
   ]
  },
  {
   "cell_type": "markdown",
   "metadata": {},
   "source": [
    "The role of permutations functions within the numpy.random package is to take randomly generated values or arrays and manipulated their order randomly. The random range or sequence is then said to be permuted randomly. The key is that the original random data is copied before the permutation takes place. Below we can show how an array can be passed into the arange() function in the standard numpy library, subsequently reshaped, then randomised in the permutation() function utilising the numpy.random library."
   ]
  },
  {
   "cell_type": "code",
   "execution_count": 35,
   "metadata": {},
   "outputs": [
    {
     "data": {
      "text/plain": [
       "array([8, 7, 4])"
      ]
     },
     "execution_count": 35,
     "metadata": {},
     "output_type": "execute_result"
    }
   ],
   "source": [
    "np.permutation([7,8,4])"
   ]
  },
  {
   "cell_type": "code",
   "execution_count": 45,
   "metadata": {},
   "outputs": [
    {
     "data": {
      "text/plain": [
       "(array([ 0,  1,  2,  3,  4,  5,  6,  7,  8,  9, 10, 11, 12, 13, 14, 15]),\n",
       " array([[12, 13, 14, 15],\n",
       "        [ 8,  9, 10, 11],\n",
       "        [ 4,  5,  6,  7],\n",
       "        [ 0,  1,  2,  3]]))"
      ]
     },
     "execution_count": 45,
     "metadata": {},
     "output_type": "execute_result"
    }
   ],
   "source": [
    "import numpy\n",
    "arr_1 = numpy.arange(16)\n",
    "arr_2 = numpy.arange(16).reshape((4,4))\n",
    "numpy.arange(16), np.permutation(arr_2)"
   ]
  },
  {
   "cell_type": "markdown",
   "metadata": {},
   "source": [
    "### Discussion of distribution functions"
   ]
  },
  {
   "cell_type": "markdown",
   "metadata": {},
   "source": [
    "This section will explain the key differences between 5 different distributions provided for in the package.\n",
    "\n",
    "#### Standard normal distribution"
   ]
  },
  {
   "cell_type": "markdown",
   "metadata": {},
   "source": [
    "The standard normal distribution is a distribution of integers whose mean is 0 and whose standard deviation is 1. A standard normal distribution might be used in industry to ensure data is representative of a wider population. \n",
    "\n",
    "Plotting the distribution below we can validate that the standard normal distribution looks as expected (like a bell curve) and also that the mean of 0 and standard deviation of 1 are similarly as expected."
   ]
  },
  {
   "cell_type": "code",
   "execution_count": 49,
   "metadata": {},
   "outputs": [
    {
     "data": {
      "text/plain": [
       "([array([    4.,    57.,   330.,  1326.,  2712.,  3062.,  1792.,   593.,\n",
       "           113.,    11.]),\n",
       "  array([  2.00000000e+00,   3.90000000e+01,   2.99000000e+02,\n",
       "           1.35600000e+03,   2.72400000e+03,   3.10400000e+03,\n",
       "           1.76100000e+03,   5.92000000e+02,   1.06000000e+02,\n",
       "           1.70000000e+01])],\n",
       " array([-4.21105075, -3.39821057, -2.58537039, -1.77253021, -0.95969004,\n",
       "        -0.14684986,  0.66599032,  1.4788305 ,  2.29167067,  3.10451085,\n",
       "         3.91735103]),\n",
       " <a list of 2 Lists of Patches objects>)"
      ]
     },
     "execution_count": 49,
     "metadata": {},
     "output_type": "execute_result"
    },
    {
     "data": {
      "image/png": "[encoded data removed]",
      "text/plain": [
       "<matplotlib.figure.Figure at 0x2db154674a8>"
      ]
     },
     "metadata": {},
     "output_type": "display_data"
    }
   ],
   "source": [
    "%matplotlib inline\n",
    "import numpy.random as np\n",
    "import matplotlib.pyplot as plt\n",
    "\n",
    "\n",
    "x = np.standard_normal(size=(10000,2))\n",
    "plt.hist(x)"
   ]
  },
  {
   "cell_type": "code",
   "execution_count": 50,
   "metadata": {},
   "outputs": [
    {
     "data": {
      "text/plain": [
       "(0.99698081013577255, -0.0087838441681345365)"
      ]
     },
     "execution_count": 50,
     "metadata": {},
     "output_type": "execute_result"
    }
   ],
   "source": [
    "import numpy\n",
    "x = np.standard_normal(size=(10000,2))\n",
    "y = numpy.std(x)\n",
    "z = numpy.mean(x)\n",
    "y, z"
   ]
  },
  {
   "cell_type": "markdown",
   "metadata": {},
   "source": [
    "#### Uniform distribution"
   ]
  },
  {
   "cell_type": "markdown",
   "metadata": {
    "collapsed": true
   },
   "source": [
    "The uniform distribution or rectangular distribution is a distribution where all intervals across the distribution have equal probability. A real world example of a uniform distribution is the first ball drawn in the lottery, the first card drawn from a deck of cards or a simple toss of a coin.\n",
    "\n",
    "Plotting the uniform distribution below we can see that each interval is approximately equal and has approximately the same rate of occurence."
   ]
  },
  {
   "cell_type": "code",
   "execution_count": 12,
   "metadata": {},
   "outputs": [
    {
     "data": {
      "text/plain": [
       "(array([ 1066.,   951.,  1009.,  1060.,  1020.,   966.,   957.,  1014.,\n",
       "          974.,   983.]),\n",
       " array([ 1.00004252,  1.1000239 ,  1.20000529,  1.29998667,  1.39996805,\n",
       "         1.49994943,  1.59993081,  1.69991219,  1.79989357,  1.89987495,\n",
       "         1.99985633]),\n",
       " <a list of 10 Patch objects>)"
      ]
     },
     "execution_count": 12,
     "metadata": {},
     "output_type": "execute_result"
    },
    {
     "data": {
      "image/png": "[encoded data removed]",
      "text/plain": [
       "<matplotlib.figure.Figure at 0x153564b9518>"
      ]
     },
     "metadata": {},
     "output_type": "display_data"
    }
   ],
   "source": [
    "import numpy.random as np\n",
    "import matplotlib.pyplot as plt\n",
    "%matplotlib inline\n",
    "\n",
    "x = np.uniform(1,2,10000)\n",
    "plt.hist(x)"
   ]
  },
  {
   "cell_type": "markdown",
   "metadata": {
    "collapsed": true
   },
   "source": [
    "#### Poisson Distribution\n"
   ]
  },
  {
   "cell_type": "markdown",
   "metadata": {},
   "source": [
    "The best explanation of the Poisson distribution is that is a distribution that has the following properties:\n",
    "\n",
    "\"It is a measurement of outcomes that can be classified as successes or failures.\n",
    "The average number of successes (μ) that occurs in a specified region is known.\n",
    "The probability that a success will occur is proportional to the size of the region.\n",
    "The probability that a success will occur in an extremely small region is virtually zero\"\n",
    "\n",
    "A real world example is the number of bankruptcies filed in one year. The histogram below is based on the idea that the lamda or interval is 5 and that our sample size is 2000 small companies. It shows us that bankruptcies can be forecasted for up to 14 in the given year, albeit with remote probability. The more likely outcome will be from 3 to 8 filings."
   ]
  },
  {
   "cell_type": "code",
   "execution_count": 25,
   "metadata": {},
   "outputs": [
    {
     "data": {
      "text/plain": [
       "(array([  78.,  155.,  645.,  351.,  305.,  322.,   80.,   58.,    3.,    3.]),\n",
       " array([  0. ,   1.4,   2.8,   4.2,   5.6,   7. ,   8.4,   9.8,  11.2,\n",
       "         12.6,  14. ]),\n",
       " <a list of 10 Patch objects>)"
      ]
     },
     "execution_count": 25,
     "metadata": {},
     "output_type": "execute_result"
    },
    {
     "data": {
      "image/png": "[encoded data removed]",
      "text/plain": [
       "<matplotlib.figure.Figure at 0x219e4d94160>"
      ]
     },
     "metadata": {},
     "output_type": "display_data"
    }
   ],
   "source": [
    "import numpy.random as np\n",
    "import matplotlib.pyplot as plt\n",
    "\n",
    "%matplotlib inline\n",
    "\n",
    "x = np.poisson(5,2000)\n",
    "plt.hist(x)"
   ]
  },
  {
   "cell_type": "markdown",
   "metadata": {
    "collapsed": true
   },
   "source": [
    "#### Rayleigh distribution\n"
   ]
  },
  {
   "cell_type": "markdown",
   "metadata": {},
   "source": [
    "The Rayleigh distribution is \"a special case of the Weibull distribution with a scale parameter of 2. When a Rayleigh is set with a shape parameter (σ) of 1, it is equal to a chi square distribution with 2 degrees of freedom\"\n",
    "\n",
    "A real world example of the Rayleigh distribution is the measurement of wave heights. If the mode value of the wave height was determined, the Rayleigh distribution could be used to calculate the probability of the waves being 2 times larger for instance.\n",
    "that approximately 1000 of these waves are determined to be greater than 10m - 2 times the mode. "
   ]
  },
  {
   "cell_type": "code",
   "execution_count": 21,
   "metadata": {},
   "outputs": [
    {
     "data": {
      "text/plain": [
       "(array([  923.,  2130.,  2448.,  2097.,  1291.,   702.,   289.,    89.,\n",
       "           26.,     5.]),\n",
       " array([  0.05866575,   2.15767934,   4.25669294,   6.35570653,\n",
       "          8.45472013,  10.55373373,  12.65274732,  14.75176092,\n",
       "         16.85077451,  18.94978811,  21.0488017 ]),\n",
       " <a list of 10 Patch objects>)"
      ]
     },
     "execution_count": 21,
     "metadata": {},
     "output_type": "execute_result"
    },
    {
     "data": {
      "image/png": "[encoded data removed]",
      "text/plain": [
       "<matplotlib.figure.Figure at 0x219e486fda0>"
      ]
     },
     "metadata": {},
     "output_type": "display_data"
    }
   ],
   "source": [
    "import numpy.random as np\n",
    "import matplotlib.pyplot as plt\n",
    "\n",
    "%matplotlib inline\n",
    "\n",
    "x = np.rayleigh(5,10000)\n",
    "plt.hist(x)"
   ]
  },
  {
   "cell_type": "markdown",
   "metadata": {
    "collapsed": true
   },
   "source": [
    "#### Geometric distribution"
   ]
  },
  {
   "cell_type": "markdown",
   "metadata": {},
   "source": [
    "The geometric distribution is defined as \"a discrete Random Sampling Distribution. The sampling is from a series of independent trials each of which may have outcomes which fall into one of two classifications. The Geometric Distribution generates the probability of X-trials required until the first occurrence is obtained. The probability of occurrence of each classification remains constant for each trial. The outcomes of each successive trial also remains independent. This sampling situation is sometimes referred to as a Bernoulli Trial or Process\"\n",
    "\n",
    "A real world example of the geometric distribution can be how many customers will walk into a store before a sale is made. As the probability of occurence for each classification remains constant for each trial but the probability we are looking for is the first occurence or first sale. Outcomes from one customer to the next are independent.\n",
    "\n",
    "Below is a histogram of a random geometric distribution where the probability of a sale is assumed to be 0.2 and the number of trials is 50. The distribution shows that the event (sales) has quite a high chance of occurence within 5 trials (visits)"
   ]
  },
  {
   "cell_type": "code",
   "execution_count": 19,
   "metadata": {},
   "outputs": [
    {
     "data": {
      "text/plain": [
       "(array([ 21.,  15.,   4.,   2.,   3.,   2.,   2.,   0.,   0.,   1.]),\n",
       " array([  1. ,   2.7,   4.4,   6.1,   7.8,   9.5,  11.2,  12.9,  14.6,\n",
       "         16.3,  18. ]),\n",
       " <a list of 10 Patch objects>)"
      ]
     },
     "execution_count": 19,
     "metadata": {},
     "output_type": "execute_result"
    },
    {
     "data": {
      "image/png": "[encoded data removed]",
      "text/plain": [
       "<matplotlib.figure.Figure at 0x219e113b3c8>"
      ]
     },
     "metadata": {},
     "output_type": "display_data"
    }
   ],
   "source": [
    "import numpy.random as np\n",
    "import matplotlib.pyplot as plt\n",
    "\n",
    "%matplotlib inline\n",
    "\n",
    "x = np.geometric(0.2,50)\n",
    "plt.hist(x)"
   ]
  },
  {
   "cell_type": "markdown",
   "metadata": {},
   "source": [
    "### Seeds in pseudorandom numbers"
   ]
  },
  {
   "cell_type": "markdown",
   "metadata": {},
   "source": [
    "\n",
    "#### Random numbers and their uses\n",
    "\n",
    "\n"
   ]
  },
  {
   "cell_type": "markdown",
   "metadata": {},
   "source": [
    "Pseudorandom numbers come from the concept of random numbers. The necessity of random numbers in the modern world is only increasing and have many everyday applications from encryption and tokenisation to machine learning and computer security applications. Given however that computers cannot generate genuinely random numbers the best alternative is psuedorandom numbers.\n",
    "\n",
    "Psuedorandom numbers are numbers that appear random and exhibit statistical randomness but were generated using a deterministic process. These numbers can also be stored or recalled later which makes them particularly useful and advantageous for encyption and tokenisation. This is done using the seeds."
   ]
  },
  {
   "cell_type": "markdown",
   "metadata": {},
   "source": [
    "#### The use of seeds"
   ]
  },
  {
   "cell_type": "markdown",
   "metadata": {},
   "source": [
    "Seeds are the beginning numbers or labels to start or initialise pseudorandom number generation. Defining a seed is important as the an array of random numbers will be stored and associated with that seed until it is reset. If no seed is specified the seed will be automatically determined by the state of the computer system, eg the clock.\n",
    "\n",
    "Psuedorandom numbers are generated in sequences. These sequences are deterministic and seeded with an initial number. This is essentially a labelling system that associates your generation of random numbers under the seed with the seed itself. This means if you recall the seed you recall the random number.\n",
    "\n",
    "We can see below that the random numbers associated with the seed label \"10\" can be easily recalled and reproduced in an entirely deterministic fashion by reaffirming our seed label and asking for 5 more random numbers. They are the same."
   ]
  },
  {
   "cell_type": "code",
   "execution_count": 14,
   "metadata": {},
   "outputs": [
    {
     "data": {
      "text/plain": [
       "array([ 0.77132064,  0.02075195,  0.63364823,  0.74880388,  0.49850701])"
      ]
     },
     "execution_count": 14,
     "metadata": {},
     "output_type": "execute_result"
    }
   ],
   "source": [
    "import numpy.random as np\n",
    "import matplotlib.pyplot as plt\n",
    "%matplotlib inline\n",
    "\n",
    "np.seed(10)\n",
    "np.rand(5)"
   ]
  },
  {
   "cell_type": "code",
   "execution_count": 15,
   "metadata": {},
   "outputs": [
    {
     "data": {
      "text/plain": [
       "array([ 0.77132064,  0.02075195,  0.63364823,  0.74880388,  0.49850701])"
      ]
     },
     "execution_count": 15,
     "metadata": {},
     "output_type": "execute_result"
    }
   ],
   "source": [
    "import numpy.random as np\n",
    "import matplotlib.pyplot as plt\n",
    "%matplotlib inline\n",
    "\n",
    "np.seed(10)\n",
    "np.rand(5)"
   ]
  },
  {
   "cell_type": "markdown",
   "metadata": {
    "collapsed": true
   },
   "source": [
    "#### Where does the data come from?"
   ]
  },
  {
   "cell_type": "markdown",
   "metadata": {},
   "source": [
    "The data for the pseudorandom numbers likely comes from an internal repository or pool of data in the computer system. User keystrokes or the movements of input/output devices are converted into numbers and replenish the pool of data constantly. A new seed will draw a specified number of pseudorandom numbers from the pool and will be associated with that same explicit set of numbers until it is reset."
   ]
  },
  {
   "cell_type": "markdown",
   "metadata": {},
   "source": [
    "#### Is pseudorandom number generation secure?"
   ]
  },
  {
   "cell_type": "markdown",
   "metadata": {},
   "source": [
    "According to a recent article in the BBC https://www.bbc.com/news/technology-33839925 Encryption packages based on pseudorandom number generation may not be as secure as once thought. \n",
    "\n",
    "The issue lies chiefly in the data pool described above where a low entropy environment is present in the computer system. In this case the frequency of the data stream may be quite low and so prove more predictable and less secure than an equivalent high entropy system. The article cites this environment as more susceptible to a brute force attack as seeds for new numbers would be generated far less regularly."
   ]
  },
  {
   "cell_type": "code",
   "execution_count": null,
   "metadata": {
    "collapsed": true
   },
   "outputs": [],
   "source": []
  }
 ],
 "metadata": {
  "kernelspec": {
   "display_name": "Python 3",
   "language": "python",
   "name": "python3"
  },
  "language_info": {
   "codemirror_mode": {
    "name": "ipython",
    "version": 3
   },
   "file_extension": ".py",
   "mimetype": "text/x-python",
   "name": "python",
   "nbconvert_exporter": "python",
   "pygments_lexer": "ipython3",
   "version": "3.6.3"
  }
 },
 "nbformat": 4,
 "nbformat_minor": 2
}
